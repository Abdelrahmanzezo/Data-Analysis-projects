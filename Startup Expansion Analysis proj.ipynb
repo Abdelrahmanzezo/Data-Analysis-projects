{
 "cells": [
  {
   "cell_type": "code",
   "execution_count": 1,
   "id": "59b5b981",
   "metadata": {},
   "outputs": [],
   "source": [
    "import numpy as np \n",
    "import pandas as pd\n",
    "import matplotlib.pyplot as plt\n",
    "import seaborn as sns"
   ]
  },
  {
   "cell_type": "code",
   "execution_count": 3,
   "id": "c2ded514",
   "metadata": {},
   "outputs": [],
   "source": [
    "df = pd.read_excel(r'C:\\Users\\SH2\\Downloads\\archive (16)\\startup-expansion.xlsx')"
   ]
  },
  {
   "cell_type": "code",
   "execution_count": 5,
   "id": "3d47aba2",
   "metadata": {},
   "outputs": [
    {
     "data": {
      "text/html": [
       "<div>\n",
       "<style scoped>\n",
       "    .dataframe tbody tr th:only-of-type {\n",
       "        vertical-align: middle;\n",
       "    }\n",
       "\n",
       "    .dataframe tbody tr th {\n",
       "        vertical-align: top;\n",
       "    }\n",
       "\n",
       "    .dataframe thead th {\n",
       "        text-align: right;\n",
       "    }\n",
       "</style>\n",
       "<table border=\"1\" class=\"dataframe\">\n",
       "  <thead>\n",
       "    <tr style=\"text-align: right;\">\n",
       "      <th></th>\n",
       "      <th>Store ID</th>\n",
       "      <th>City</th>\n",
       "      <th>State</th>\n",
       "      <th>Sales Region</th>\n",
       "      <th>New Expansion</th>\n",
       "      <th>Marketing Spend</th>\n",
       "      <th>Revenue</th>\n",
       "    </tr>\n",
       "  </thead>\n",
       "  <tbody>\n",
       "    <tr>\n",
       "      <th>0</th>\n",
       "      <td>1</td>\n",
       "      <td>Peoria</td>\n",
       "      <td>Arizona</td>\n",
       "      <td>Region 2</td>\n",
       "      <td>Old</td>\n",
       "      <td>2601</td>\n",
       "      <td>48610</td>\n",
       "    </tr>\n",
       "    <tr>\n",
       "      <th>1</th>\n",
       "      <td>2</td>\n",
       "      <td>Midland</td>\n",
       "      <td>Texas</td>\n",
       "      <td>Region 2</td>\n",
       "      <td>Old</td>\n",
       "      <td>2727</td>\n",
       "      <td>45689</td>\n",
       "    </tr>\n",
       "    <tr>\n",
       "      <th>2</th>\n",
       "      <td>3</td>\n",
       "      <td>Spokane</td>\n",
       "      <td>Washington</td>\n",
       "      <td>Region 2</td>\n",
       "      <td>Old</td>\n",
       "      <td>2768</td>\n",
       "      <td>49554</td>\n",
       "    </tr>\n",
       "    <tr>\n",
       "      <th>3</th>\n",
       "      <td>4</td>\n",
       "      <td>Denton</td>\n",
       "      <td>Texas</td>\n",
       "      <td>Region 2</td>\n",
       "      <td>Old</td>\n",
       "      <td>2759</td>\n",
       "      <td>38284</td>\n",
       "    </tr>\n",
       "    <tr>\n",
       "      <th>4</th>\n",
       "      <td>5</td>\n",
       "      <td>Overland Park</td>\n",
       "      <td>Kansas</td>\n",
       "      <td>Region 2</td>\n",
       "      <td>Old</td>\n",
       "      <td>2869</td>\n",
       "      <td>59887</td>\n",
       "    </tr>\n",
       "    <tr>\n",
       "      <th>5</th>\n",
       "      <td>6</td>\n",
       "      <td>Yonkers</td>\n",
       "      <td>New York</td>\n",
       "      <td>Region 1</td>\n",
       "      <td>Old</td>\n",
       "      <td>3080</td>\n",
       "      <td>53827</td>\n",
       "    </tr>\n",
       "    <tr>\n",
       "      <th>6</th>\n",
       "      <td>7</td>\n",
       "      <td>Birmingham</td>\n",
       "      <td>Alabama</td>\n",
       "      <td>Region 1</td>\n",
       "      <td>Old</td>\n",
       "      <td>3110</td>\n",
       "      <td>60338</td>\n",
       "    </tr>\n",
       "    <tr>\n",
       "      <th>7</th>\n",
       "      <td>8</td>\n",
       "      <td>Antioch</td>\n",
       "      <td>California</td>\n",
       "      <td>Region 2</td>\n",
       "      <td>Old</td>\n",
       "      <td>2593</td>\n",
       "      <td>19569</td>\n",
       "    </tr>\n",
       "    <tr>\n",
       "      <th>8</th>\n",
       "      <td>9</td>\n",
       "      <td>Worcester</td>\n",
       "      <td>Massachusetts</td>\n",
       "      <td>Region 1</td>\n",
       "      <td>Old</td>\n",
       "      <td>2675</td>\n",
       "      <td>59840</td>\n",
       "    </tr>\n",
       "    <tr>\n",
       "      <th>9</th>\n",
       "      <td>10</td>\n",
       "      <td>Rochester</td>\n",
       "      <td>New York</td>\n",
       "      <td>Region 1</td>\n",
       "      <td>Old</td>\n",
       "      <td>2984</td>\n",
       "      <td>64906</td>\n",
       "    </tr>\n",
       "  </tbody>\n",
       "</table>\n",
       "</div>"
      ],
      "text/plain": [
       "   Store ID           City          State Sales Region New Expansion  \\\n",
       "0         1         Peoria        Arizona     Region 2           Old   \n",
       "1         2        Midland          Texas     Region 2           Old   \n",
       "2         3        Spokane     Washington     Region 2           Old   \n",
       "3         4         Denton          Texas     Region 2           Old   \n",
       "4         5  Overland Park         Kansas     Region 2           Old   \n",
       "5         6        Yonkers       New York     Region 1           Old   \n",
       "6         7     Birmingham        Alabama     Region 1           Old   \n",
       "7         8        Antioch     California     Region 2           Old   \n",
       "8         9      Worcester  Massachusetts     Region 1           Old   \n",
       "9        10      Rochester       New York     Region 1           Old   \n",
       "\n",
       "   Marketing Spend  Revenue  \n",
       "0             2601    48610  \n",
       "1             2727    45689  \n",
       "2             2768    49554  \n",
       "3             2759    38284  \n",
       "4             2869    59887  \n",
       "5             3080    53827  \n",
       "6             3110    60338  \n",
       "7             2593    19569  \n",
       "8             2675    59840  \n",
       "9             2984    64906  "
      ]
     },
     "execution_count": 5,
     "metadata": {},
     "output_type": "execute_result"
    }
   ],
   "source": [
    "df.head(10)"
   ]
  },
  {
   "cell_type": "code",
   "execution_count": 6,
   "id": "89fa1dff",
   "metadata": {},
   "outputs": [
    {
     "name": "stdout",
     "output_type": "stream",
     "text": [
      "<class 'pandas.core.frame.DataFrame'>\n",
      "RangeIndex: 150 entries, 0 to 149\n",
      "Data columns (total 7 columns):\n",
      " #   Column           Non-Null Count  Dtype \n",
      "---  ------           --------------  ----- \n",
      " 0   Store ID         150 non-null    int64 \n",
      " 1   City             150 non-null    object\n",
      " 2   State            150 non-null    object\n",
      " 3   Sales Region     150 non-null    object\n",
      " 4   New Expansion    150 non-null    object\n",
      " 5   Marketing Spend  150 non-null    int64 \n",
      " 6   Revenue          150 non-null    int64 \n",
      "dtypes: int64(3), object(4)\n",
      "memory usage: 8.3+ KB\n"
     ]
    }
   ],
   "source": [
    "df.info()"
   ]
  },
  {
   "cell_type": "code",
   "execution_count": 12,
   "id": "de23de07",
   "metadata": {},
   "outputs": [
    {
     "data": {
      "text/plain": [
       "(150, 7)"
      ]
     },
     "execution_count": 12,
     "metadata": {},
     "output_type": "execute_result"
    }
   ],
   "source": [
    "df.shape"
   ]
  },
  {
   "cell_type": "markdown",
   "id": "64413ceb",
   "metadata": {},
   "source": [
    "## Cleaning Data"
   ]
  },
  {
   "cell_type": "code",
   "execution_count": 9,
   "id": "64b3d933",
   "metadata": {},
   "outputs": [
    {
     "data": {
      "text/plain": [
       "Store ID           0\n",
       "City               0\n",
       "State              0\n",
       "Sales Region       0\n",
       "New Expansion      0\n",
       "Marketing Spend    0\n",
       "Revenue            0\n",
       "dtype: int64"
      ]
     },
     "execution_count": 9,
     "metadata": {},
     "output_type": "execute_result"
    }
   ],
   "source": [
    "df.isnull().sum() # No Null values"
   ]
  },
  {
   "cell_type": "code",
   "execution_count": 10,
   "id": "76e3ad64",
   "metadata": {},
   "outputs": [
    {
     "data": {
      "text/plain": [
       "0"
      ]
     },
     "execution_count": 10,
     "metadata": {},
     "output_type": "execute_result"
    }
   ],
   "source": [
    "df.duplicated().sum() # No duplicate rows "
   ]
  },
  {
   "cell_type": "code",
   "execution_count": 11,
   "id": "f4214458",
   "metadata": {},
   "outputs": [
    {
     "data": {
      "text/plain": [
       "array(['Peoria', 'Midland', 'Spokane', 'Denton', 'Overland Park',\n",
       "       'Yonkers', 'Birmingham', 'Antioch', 'Worcester', 'Rochester',\n",
       "       'Rialto', 'Santa Maria', 'Las Cruces', 'Jackson', 'Hillsboro',\n",
       "       'Temecula', 'Tallahassee', 'Fontana', 'Kent', 'Broken Arrow',\n",
       "       'Concord', 'Modesto', 'Montgomery', 'Burbank', 'Elk Grove',\n",
       "       'Port St. Lucie', 'Elizabeth', 'Salt Lake City', 'Waco', 'Edison',\n",
       "       'Boulder', 'Grand Rapids', 'Tyler', 'Charleston', 'Huntsville',\n",
       "       'Pearland', 'Inglewood', 'Oxnard', 'Miramar', 'Cape Coral',\n",
       "       'Syracuse', 'Newport News', 'Lewisville', 'Carrollton',\n",
       "       'San Bernardino', 'Pasadena', 'Roseville', 'Murrieta',\n",
       "       'San Angelo', 'Olathe', 'Akron', 'Fullerton', 'Manchester',\n",
       "       'Everett', 'West Covina', 'Thornton', 'Hampton', 'Waterbury',\n",
       "       'Ventura', 'Davenport', 'Columbia', 'Simi Valley', 'Richmond',\n",
       "       'Little Rock', 'El Cajon', 'Santa Clara', 'Oceanside', 'Davie',\n",
       "       'Lakeland', 'Centennial', 'Lowell', 'Ontario', 'Palm Bay',\n",
       "       'Murfreesboro', 'Vancouver', 'Topeka', 'West Valley City',\n",
       "       'New Haven', 'Pueblo', 'Costa Mesa', 'Garden Grove',\n",
       "       'Fort Lauderdale', 'North Charleston', 'Cambridge', 'Greeley',\n",
       "       'Gresham', 'Amarillo', 'High Point', 'Vista', 'Tacoma', 'Mesquite',\n",
       "       'Augusta', 'Elgin', 'Aurora', 'Gainesville', 'Dayton',\n",
       "       'Wichita Falls', 'Naperville', 'Clovis', 'Billings', 'Surprise',\n",
       "       'Coral Springs', 'Visalia', 'Killeen', 'Orange', 'Richardson',\n",
       "       'South Bend', 'Fayetteville', 'Sioux Falls', 'Grand Prairie',\n",
       "       'Stamford', 'West Palm Beach', 'Knoxville', 'Renton', 'McAllen',\n",
       "       'Woodbridge', 'Shreveport', 'Bellevue', 'Huntington Beach',\n",
       "       'Santa Clarita', 'Sterling Heights', 'Mobile', 'Bridgeport',\n",
       "       'Daly City', 'Sandy Springs', 'Cedar Rapids', 'Columbus',\n",
       "       'Moreno Valley', 'Pompano Beach', 'Savannah', 'West Jordan',\n",
       "       'Des Moines', 'Green Bay', 'Santa Rosa', 'San Mateo', 'Warren',\n",
       "       'Norwalk', 'Lafayette', 'Providence', 'Chattanooga', 'Tempe',\n",
       "       'Joliet', 'Rancho Cucamonga', 'Glendale', 'Paterson',\n",
       "       'Brownsville', 'Rockford', 'College Station', 'Thousand Oaks'],\n",
       "      dtype=object)"
      ]
     },
     "execution_count": 11,
     "metadata": {},
     "output_type": "execute_result"
    }
   ],
   "source": [
    "df['City'].unique()"
   ]
  },
  {
   "cell_type": "code",
   "execution_count": 13,
   "id": "5df5f8f4",
   "metadata": {},
   "outputs": [
    {
     "data": {
      "text/plain": [
       "149"
      ]
     },
     "execution_count": 13,
     "metadata": {},
     "output_type": "execute_result"
    }
   ],
   "source": [
    "df['City'].nunique()"
   ]
  },
  {
   "cell_type": "code",
   "execution_count": 15,
   "id": "f55f4a5c",
   "metadata": {},
   "outputs": [
    {
     "data": {
      "text/plain": [
       "Rochester        2\n",
       "Killeen          1\n",
       "Wichita Falls    1\n",
       "Naperville       1\n",
       "Clovis           1\n",
       "                ..\n",
       "Akron            1\n",
       "Fullerton        1\n",
       "Manchester       1\n",
       "Everett          1\n",
       "Thousand Oaks    1\n",
       "Name: City, Length: 149, dtype: int64"
      ]
     },
     "execution_count": 15,
     "metadata": {},
     "output_type": "execute_result"
    }
   ],
   "source": [
    "df['City'].value_counts()"
   ]
  },
  {
   "cell_type": "code",
   "execution_count": 16,
   "id": "d2922872",
   "metadata": {},
   "outputs": [
    {
     "data": {
      "text/plain": [
       "California        40\n",
       "Texas             17\n",
       "Florida           12\n",
       "Washington         7\n",
       "Colorado           5\n",
       "Illinois           5\n",
       "Georgia            4\n",
       "Alabama            4\n",
       "Connecticut        4\n",
       "New Jersey         4\n",
       "Arizona            3\n",
       "Tennessee          3\n",
       "Iowa               3\n",
       "Michigan           3\n",
       "South Carolina     3\n",
       "Utah               3\n",
       "Massachusetts      3\n",
       "Kansas             3\n",
       "New York           3\n",
       "Louisiana          2\n",
       "North Carolina     2\n",
       "Ohio               2\n",
       "Virginia           2\n",
       "Oregon             2\n",
       "Mississippi        1\n",
       "New Mexico         1\n",
       "Arkansas           1\n",
       "New Hampshire      1\n",
       "Oklahoma           1\n",
       "Montana            1\n",
       "Indiana            1\n",
       "South Dakota       1\n",
       "Minnesota          1\n",
       "Wisconsin          1\n",
       "Rhode Island       1\n",
       "Name: State, dtype: int64"
      ]
     },
     "execution_count": 16,
     "metadata": {},
     "output_type": "execute_result"
    }
   ],
   "source": [
    "df['State'].value_counts()"
   ]
  },
  {
   "cell_type": "code",
   "execution_count": 17,
   "id": "5dd3c5ec",
   "metadata": {},
   "outputs": [
    {
     "data": {
      "text/plain": [
       "35"
      ]
     },
     "execution_count": 17,
     "metadata": {},
     "output_type": "execute_result"
    }
   ],
   "source": [
    "df['State'].nunique()"
   ]
  },
  {
   "cell_type": "code",
   "execution_count": 20,
   "id": "6f0db25b",
   "metadata": {},
   "outputs": [
    {
     "data": {
      "text/plain": [
       "array(['Region 2', 'Region 1'], dtype=object)"
      ]
     },
     "execution_count": 20,
     "metadata": {},
     "output_type": "execute_result"
    }
   ],
   "source": [
    "df['Sales Region'].unique()"
   ]
  },
  {
   "cell_type": "code",
   "execution_count": 22,
   "id": "9daeb90a",
   "metadata": {},
   "outputs": [
    {
     "data": {
      "text/plain": [
       "array(['Old', 'New'], dtype=object)"
      ]
     },
     "execution_count": 22,
     "metadata": {},
     "output_type": "execute_result"
    }
   ],
   "source": [
    "df['New Expansion'].unique()"
   ]
  },
  {
   "cell_type": "markdown",
   "id": "7194c829",
   "metadata": {},
   "source": [
    "### Exploring Numeric Data"
   ]
  },
  {
   "cell_type": "code",
   "execution_count": 25,
   "id": "58aaef06",
   "metadata": {},
   "outputs": [
    {
     "data": {
      "text/html": [
       "<div>\n",
       "<style scoped>\n",
       "    .dataframe tbody tr th:only-of-type {\n",
       "        vertical-align: middle;\n",
       "    }\n",
       "\n",
       "    .dataframe tbody tr th {\n",
       "        vertical-align: top;\n",
       "    }\n",
       "\n",
       "    .dataframe thead th {\n",
       "        text-align: right;\n",
       "    }\n",
       "</style>\n",
       "<table border=\"1\" class=\"dataframe\">\n",
       "  <thead>\n",
       "    <tr style=\"text-align: right;\">\n",
       "      <th></th>\n",
       "      <th>Marketing Spend</th>\n",
       "      <th>Revenue</th>\n",
       "    </tr>\n",
       "  </thead>\n",
       "  <tbody>\n",
       "    <tr>\n",
       "      <th>count</th>\n",
       "      <td>150.00</td>\n",
       "      <td>150.00</td>\n",
       "    </tr>\n",
       "    <tr>\n",
       "      <th>mean</th>\n",
       "      <td>2893.15</td>\n",
       "      <td>39301.43</td>\n",
       "    </tr>\n",
       "    <tr>\n",
       "      <th>std</th>\n",
       "      <td>367.86</td>\n",
       "      <td>15465.75</td>\n",
       "    </tr>\n",
       "    <tr>\n",
       "      <th>min</th>\n",
       "      <td>1811.00</td>\n",
       "      <td>15562.00</td>\n",
       "    </tr>\n",
       "    <tr>\n",
       "      <th>25%</th>\n",
       "      <td>2662.25</td>\n",
       "      <td>21113.50</td>\n",
       "    </tr>\n",
       "    <tr>\n",
       "      <th>50%</th>\n",
       "      <td>2898.00</td>\n",
       "      <td>42993.00</td>\n",
       "    </tr>\n",
       "    <tr>\n",
       "      <th>75%</th>\n",
       "      <td>3111.50</td>\n",
       "      <td>51145.50</td>\n",
       "    </tr>\n",
       "    <tr>\n",
       "      <th>max</th>\n",
       "      <td>3984.00</td>\n",
       "      <td>68828.00</td>\n",
       "    </tr>\n",
       "  </tbody>\n",
       "</table>\n",
       "</div>"
      ],
      "text/plain": [
       "       Marketing Spend   Revenue\n",
       "count           150.00    150.00\n",
       "mean           2893.15  39301.43\n",
       "std             367.86  15465.75\n",
       "min            1811.00  15562.00\n",
       "25%            2662.25  21113.50\n",
       "50%            2898.00  42993.00\n",
       "75%            3111.50  51145.50\n",
       "max            3984.00  68828.00"
      ]
     },
     "execution_count": 25,
     "metadata": {},
     "output_type": "execute_result"
    }
   ],
   "source": [
    "df[['Marketing Spend','Revenue']].describe().round(2)"
   ]
  },
  {
   "cell_type": "markdown",
   "id": "c3ff81ec",
   "metadata": {},
   "source": [
    "## Creating additional columns "
   ]
  },
  {
   "cell_type": "code",
   "execution_count": 27,
   "id": "2a5da47f",
   "metadata": {},
   "outputs": [
    {
     "data": {
      "text/html": [
       "<div>\n",
       "<style scoped>\n",
       "    .dataframe tbody tr th:only-of-type {\n",
       "        vertical-align: middle;\n",
       "    }\n",
       "\n",
       "    .dataframe tbody tr th {\n",
       "        vertical-align: top;\n",
       "    }\n",
       "\n",
       "    .dataframe thead th {\n",
       "        text-align: right;\n",
       "    }\n",
       "</style>\n",
       "<table border=\"1\" class=\"dataframe\">\n",
       "  <thead>\n",
       "    <tr style=\"text-align: right;\">\n",
       "      <th></th>\n",
       "      <th>Store ID</th>\n",
       "      <th>City</th>\n",
       "      <th>State</th>\n",
       "      <th>Sales Region</th>\n",
       "      <th>New Expansion</th>\n",
       "      <th>Marketing Spend</th>\n",
       "      <th>Revenue</th>\n",
       "      <th>profit</th>\n",
       "    </tr>\n",
       "  </thead>\n",
       "  <tbody>\n",
       "    <tr>\n",
       "      <th>0</th>\n",
       "      <td>1</td>\n",
       "      <td>Peoria</td>\n",
       "      <td>Arizona</td>\n",
       "      <td>Region 2</td>\n",
       "      <td>Old</td>\n",
       "      <td>2601</td>\n",
       "      <td>48610</td>\n",
       "      <td>46009</td>\n",
       "    </tr>\n",
       "    <tr>\n",
       "      <th>1</th>\n",
       "      <td>2</td>\n",
       "      <td>Midland</td>\n",
       "      <td>Texas</td>\n",
       "      <td>Region 2</td>\n",
       "      <td>Old</td>\n",
       "      <td>2727</td>\n",
       "      <td>45689</td>\n",
       "      <td>42962</td>\n",
       "    </tr>\n",
       "    <tr>\n",
       "      <th>2</th>\n",
       "      <td>3</td>\n",
       "      <td>Spokane</td>\n",
       "      <td>Washington</td>\n",
       "      <td>Region 2</td>\n",
       "      <td>Old</td>\n",
       "      <td>2768</td>\n",
       "      <td>49554</td>\n",
       "      <td>46786</td>\n",
       "    </tr>\n",
       "    <tr>\n",
       "      <th>3</th>\n",
       "      <td>4</td>\n",
       "      <td>Denton</td>\n",
       "      <td>Texas</td>\n",
       "      <td>Region 2</td>\n",
       "      <td>Old</td>\n",
       "      <td>2759</td>\n",
       "      <td>38284</td>\n",
       "      <td>35525</td>\n",
       "    </tr>\n",
       "    <tr>\n",
       "      <th>4</th>\n",
       "      <td>5</td>\n",
       "      <td>Overland Park</td>\n",
       "      <td>Kansas</td>\n",
       "      <td>Region 2</td>\n",
       "      <td>Old</td>\n",
       "      <td>2869</td>\n",
       "      <td>59887</td>\n",
       "      <td>57018</td>\n",
       "    </tr>\n",
       "  </tbody>\n",
       "</table>\n",
       "</div>"
      ],
      "text/plain": [
       "   Store ID           City       State Sales Region New Expansion  \\\n",
       "0         1         Peoria     Arizona     Region 2           Old   \n",
       "1         2        Midland       Texas     Region 2           Old   \n",
       "2         3        Spokane  Washington     Region 2           Old   \n",
       "3         4         Denton       Texas     Region 2           Old   \n",
       "4         5  Overland Park      Kansas     Region 2           Old   \n",
       "\n",
       "   Marketing Spend  Revenue  profit  \n",
       "0             2601    48610   46009  \n",
       "1             2727    45689   42962  \n",
       "2             2768    49554   46786  \n",
       "3             2759    38284   35525  \n",
       "4             2869    59887   57018  "
      ]
     },
     "execution_count": 27,
     "metadata": {},
     "output_type": "execute_result"
    }
   ],
   "source": [
    "df['profit'] = df['Revenue'] - df['Marketing Spend']\n",
    "df.head()"
   ]
  },
  {
   "cell_type": "markdown",
   "id": "6014d063",
   "metadata": {},
   "source": [
    "## Analyze the data"
   ]
  },
  {
   "cell_type": "code",
   "execution_count": 38,
   "id": "63dcbd7e",
   "metadata": {},
   "outputs": [
    {
     "data": {
      "text/plain": [
       "City\n",
       "Little Rock      66388\n",
       "Grand Rapids     62667\n",
       "Oxnard           61984\n",
       "Rochester        61922\n",
       "Fontana          59942\n",
       "Brownsville      59473\n",
       "Providence       59146\n",
       "Birmingham       57228\n",
       "Worcester        57165\n",
       "Overland Park    57018\n",
       "Name: profit, dtype: int64"
      ]
     },
     "execution_count": 38,
     "metadata": {},
     "output_type": "execute_result"
    }
   ],
   "source": [
    "# first q1 what is the first ten cities have the most profit\n",
    "df.groupby('City').max().nlargest(10,'profit')['profit']"
   ]
  },
  {
   "cell_type": "code",
   "execution_count": 39,
   "id": "2b61e628",
   "metadata": {},
   "outputs": [
    {
     "data": {
      "text/html": [
       "<div>\n",
       "<style scoped>\n",
       "    .dataframe tbody tr th:only-of-type {\n",
       "        vertical-align: middle;\n",
       "    }\n",
       "\n",
       "    .dataframe tbody tr th {\n",
       "        vertical-align: top;\n",
       "    }\n",
       "\n",
       "    .dataframe thead th {\n",
       "        text-align: right;\n",
       "    }\n",
       "</style>\n",
       "<table border=\"1\" class=\"dataframe\">\n",
       "  <thead>\n",
       "    <tr style=\"text-align: right;\">\n",
       "      <th></th>\n",
       "      <th></th>\n",
       "      <th>Store ID</th>\n",
       "      <th>Sales Region</th>\n",
       "      <th>New Expansion</th>\n",
       "      <th>Marketing Spend</th>\n",
       "      <th>Revenue</th>\n",
       "      <th>profit</th>\n",
       "    </tr>\n",
       "    <tr>\n",
       "      <th>City</th>\n",
       "      <th>State</th>\n",
       "      <th></th>\n",
       "      <th></th>\n",
       "      <th></th>\n",
       "      <th></th>\n",
       "      <th></th>\n",
       "      <th></th>\n",
       "    </tr>\n",
       "  </thead>\n",
       "  <tbody>\n",
       "    <tr>\n",
       "      <th>Everett</th>\n",
       "      <th>Washington</th>\n",
       "      <td>54</td>\n",
       "      <td>Region 2</td>\n",
       "      <td>Old</td>\n",
       "      <td>3129</td>\n",
       "      <td>15562</td>\n",
       "      <td>12433</td>\n",
       "    </tr>\n",
       "    <tr>\n",
       "      <th>Wichita Falls</th>\n",
       "      <th>Texas</th>\n",
       "      <td>97</td>\n",
       "      <td>Region 2</td>\n",
       "      <td>Old</td>\n",
       "      <td>2846</td>\n",
       "      <td>15735</td>\n",
       "      <td>12889</td>\n",
       "    </tr>\n",
       "    <tr>\n",
       "      <th>Lewisville</th>\n",
       "      <th>Texas</th>\n",
       "      <td>43</td>\n",
       "      <td>Region 2</td>\n",
       "      <td>Old</td>\n",
       "      <td>2607</td>\n",
       "      <td>16029</td>\n",
       "      <td>13422</td>\n",
       "    </tr>\n",
       "    <tr>\n",
       "      <th>Ventura</th>\n",
       "      <th>California</th>\n",
       "      <td>59</td>\n",
       "      <td>Region 2</td>\n",
       "      <td>Old</td>\n",
       "      <td>3228</td>\n",
       "      <td>16652</td>\n",
       "      <td>13424</td>\n",
       "    </tr>\n",
       "    <tr>\n",
       "      <th>Temecula</th>\n",
       "      <th>California</th>\n",
       "      <td>16</td>\n",
       "      <td>Region 2</td>\n",
       "      <td>Old</td>\n",
       "      <td>2795</td>\n",
       "      <td>16690</td>\n",
       "      <td>13895</td>\n",
       "    </tr>\n",
       "    <tr>\n",
       "      <th>Murrieta</th>\n",
       "      <th>California</th>\n",
       "      <td>48</td>\n",
       "      <td>Region 2</td>\n",
       "      <td>Old</td>\n",
       "      <td>2344</td>\n",
       "      <td>16372</td>\n",
       "      <td>14028</td>\n",
       "    </tr>\n",
       "    <tr>\n",
       "      <th>Rialto</th>\n",
       "      <th>California</th>\n",
       "      <td>11</td>\n",
       "      <td>Region 2</td>\n",
       "      <td>Old</td>\n",
       "      <td>2541</td>\n",
       "      <td>16860</td>\n",
       "      <td>14319</td>\n",
       "    </tr>\n",
       "    <tr>\n",
       "      <th>Manchester</th>\n",
       "      <th>New Hampshire</th>\n",
       "      <td>53</td>\n",
       "      <td>Region 1</td>\n",
       "      <td>Old</td>\n",
       "      <td>2374</td>\n",
       "      <td>17006</td>\n",
       "      <td>14632</td>\n",
       "    </tr>\n",
       "    <tr>\n",
       "      <th>Green Bay</th>\n",
       "      <th>Wisconsin</th>\n",
       "      <td>134</td>\n",
       "      <td>Region 1</td>\n",
       "      <td>Old</td>\n",
       "      <td>3586</td>\n",
       "      <td>18454</td>\n",
       "      <td>14868</td>\n",
       "    </tr>\n",
       "    <tr>\n",
       "      <th>West Palm Beach</th>\n",
       "      <th>Florida</th>\n",
       "      <td>112</td>\n",
       "      <td>Region 1</td>\n",
       "      <td>Old</td>\n",
       "      <td>2926</td>\n",
       "      <td>18089</td>\n",
       "      <td>15163</td>\n",
       "    </tr>\n",
       "  </tbody>\n",
       "</table>\n",
       "</div>"
      ],
      "text/plain": [
       "                               Store ID Sales Region New Expansion  \\\n",
       "City            State                                                \n",
       "Everett         Washington           54     Region 2           Old   \n",
       "Wichita Falls   Texas                97     Region 2           Old   \n",
       "Lewisville      Texas                43     Region 2           Old   \n",
       "Ventura         California           59     Region 2           Old   \n",
       "Temecula        California           16     Region 2           Old   \n",
       "Murrieta        California           48     Region 2           Old   \n",
       "Rialto          California           11     Region 2           Old   \n",
       "Manchester      New Hampshire        53     Region 1           Old   \n",
       "Green Bay       Wisconsin           134     Region 1           Old   \n",
       "West Palm Beach Florida             112     Region 1           Old   \n",
       "\n",
       "                               Marketing Spend  Revenue  profit  \n",
       "City            State                                            \n",
       "Everett         Washington                3129    15562   12433  \n",
       "Wichita Falls   Texas                     2846    15735   12889  \n",
       "Lewisville      Texas                     2607    16029   13422  \n",
       "Ventura         California                3228    16652   13424  \n",
       "Temecula        California                2795    16690   13895  \n",
       "Murrieta        California                2344    16372   14028  \n",
       "Rialto          California                2541    16860   14319  \n",
       "Manchester      New Hampshire             2374    17006   14632  \n",
       "Green Bay       Wisconsin                 3586    18454   14868  \n",
       "West Palm Beach Florida                   2926    18089   15163  "
      ]
     },
     "execution_count": 39,
     "metadata": {},
     "output_type": "execute_result"
    }
   ],
   "source": [
    "df.groupby(['City','State']).min().nsmallest(10,'profit')"
   ]
  },
  {
   "cell_type": "code",
   "execution_count": 45,
   "id": "96a3fa07",
   "metadata": {},
   "outputs": [
    {
     "data": {
      "text/plain": [
       "<AxesSubplot:>"
      ]
     },
     "execution_count": 45,
     "metadata": {},
     "output_type": "execute_result"
    },
    {
     "data": {
      "image/png": "[encoded data removed]",
      "text/plain": [
       "<Figure size 432x288 with 1 Axes>"
      ]
     },
     "metadata": {
      "needs_background": "light"
     },
     "output_type": "display_data"
    }
   ],
   "source": [
    "df['Sales Region'].value_counts().plot.bar()"
   ]
  },
  {
   "cell_type": "code",
   "execution_count": 49,
   "id": "20a07ef2",
   "metadata": {},
   "outputs": [
    {
     "data": {
      "image/png": "[encoded data removed]",
      "text/plain": [
       "<Figure size 1200x600 with 1 Axes>"
      ]
     },
     "metadata": {
      "needs_background": "light"
     },
     "output_type": "display_data"
    }
   ],
   "source": [
    "plt.figure(figsize=(12,6),dpi =100)\n",
    "sns.regplot(x='Marketing Spend', y ='Revenue',data = df)\n",
    "plt.xlabel('Marketing spend',size=20)\n",
    "plt.ylabel('Revenue',size=20)\n",
    "plt.show()"
   ]
  },
  {
   "cell_type": "code",
   "execution_count": 54,
   "id": "0ee56741",
   "metadata": {},
   "outputs": [
    {
     "data": {
      "text/plain": [
       "array(['Arizona', 'Texas', 'Washington', 'Kansas', 'New York', 'Alabama',\n",
       "       'California', 'Massachusetts', 'New Mexico', 'Mississippi',\n",
       "       'Oregon', 'Florida', 'Oklahoma', 'New Jersey', 'Utah', 'Colorado',\n",
       "       'Michigan', 'South Carolina', 'Virginia', 'Ohio', 'New Hampshire',\n",
       "       'Connecticut', 'Iowa', 'Arkansas', 'Tennessee', 'North Carolina',\n",
       "       'Georgia', 'Illinois', 'Montana', 'Indiana', 'South Dakota',\n",
       "       'Louisiana', 'Minnesota', 'Wisconsin', 'Rhode Island'],\n",
       "      dtype=object)"
      ]
     },
     "execution_count": 54,
     "metadata": {},
     "output_type": "execute_result"
    }
   ],
   "source": [
    "df['State'].unique()"
   ]
  },
  {
   "cell_type": "code",
   "execution_count": 60,
   "id": "17b0d11d",
   "metadata": {},
   "outputs": [
    {
     "data": {
      "image/png": "[encoded data removed]",
      "text/plain": [
       "<Figure size 2000x1000 with 1 Axes>"
      ]
     },
     "metadata": {
      "needs_background": "light"
     },
     "output_type": "display_data"
    }
   ],
   "source": [
    "plt.figure(figsize=(20,10),dpi=100)\n",
    "sns.barplot(x='State',y ='Revenue',data=df)\n",
    "plt.xticks(rotation = 90)\n",
    "plt.xlabel('State',size=20)\n",
    "plt.ylabel('Revenue',size=20)\n",
    "plt.show()"
   ]
  },
  {
   "cell_type": "code",
   "execution_count": 67,
   "id": "0fbcf229",
   "metadata": {},
   "outputs": [
    {
     "data": {
      "text/plain": [
       "Text(0.5, 0, 'Profit')"
      ]
     },
     "execution_count": 67,
     "metadata": {},
     "output_type": "execute_result"
    },
    {
     "data": {
      "image/png": "[encoded data removed]",
      "text/plain": [
       "<Figure size 432x288 with 1 Axes>"
      ]
     },
     "metadata": {
      "needs_background": "light"
     },
     "output_type": "display_data"
    }
   ],
   "source": [
    "sns.histplot(df['profit'],kde=True)\n",
    "plt.xlabel('Profit',size=20)"
   ]
  },
  {
   "cell_type": "code",
   "execution_count": 92,
   "id": "0d4eec42",
   "metadata": {},
   "outputs": [
    {
     "data": {
      "image/png": "[encoded data removed]",
      "text/plain": [
       "<Figure size 1200x600 with 1 Axes>"
      ]
     },
     "metadata": {},
     "output_type": "display_data"
    }
   ],
   "source": [
    "plt.figure(figsize=(12,6),dpi =100)\n",
    "count_old = df[df['New Expansion'] =='Old'].count()\n",
    "count_of_new = df[df['New Expansion'] =='New'].count()\n",
    "data = [140,10]\n",
    "labels =['Old','New']\n",
    "colors =['red','y']\n",
    "textprops = {\"fontsize\":15}\n",
    "explode =[0,.2]\n",
    "plt.pie(data,labels =labels, autopct = \"%0.2f%%\",colors =colors,textprops =textprops,explode =explode)\n",
    "plt.show()"
   ]
  },
  {
   "cell_type": "code",
   "execution_count": null,
   "id": "75136221",
   "metadata": {},
   "outputs": [],
   "source": []
  },
  {
   "cell_type": "code",
   "execution_count": null,
   "id": "bb267287",
   "metadata": {},
   "outputs": [],
   "source": []
  }
 ],
 "metadata": {
  "kernelspec": {
   "display_name": "Python 3 (ipykernel)",
   "language": "python",
   "name": "python3"
  },
  "language_info": {
   "codemirror_mode": {
    "name": "ipython",
    "version": 3
   },
   "file_extension": ".py",
   "mimetype": "text/x-python",
   "name": "python",
   "nbconvert_exporter": "python",
   "pygments_lexer": "ipython3",
   "version": "3.9.7"
  }
 },
 "nbformat": 4,
 "nbformat_minor": 5
}
