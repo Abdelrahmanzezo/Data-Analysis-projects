{
 "cells": [
  {
   "cell_type": "code",
   "execution_count": 1,
   "id": "4dc3d73f",
   "metadata": {},
   "outputs": [],
   "source": [
    "import numpy as np \n",
    "import pandas as pd\n",
    "import matplotlib.pyplot as plt\n",
    "import seaborn as sns"
   ]
  },
  {
   "cell_type": "code",
   "execution_count": 3,
   "id": "9e101003",
   "metadata": {},
   "outputs": [],
   "source": [
    "df = pd.read_csv(r'C:\\Users\\SH2\\Downloads\\archive (12)\\sleepdata.csv')"
   ]
  },
  {
   "cell_type": "code",
   "execution_count": 4,
   "id": "4aecb17e",
   "metadata": {},
   "outputs": [
    {
     "data": {
      "text/html": [
       "<div>\n",
       "<style scoped>\n",
       "    .dataframe tbody tr th:only-of-type {\n",
       "        vertical-align: middle;\n",
       "    }\n",
       "\n",
       "    .dataframe tbody tr th {\n",
       "        vertical-align: top;\n",
       "    }\n",
       "\n",
       "    .dataframe thead th {\n",
       "        text-align: right;\n",
       "    }\n",
       "</style>\n",
       "<table border=\"1\" class=\"dataframe\">\n",
       "  <thead>\n",
       "    <tr style=\"text-align: right;\">\n",
       "      <th></th>\n",
       "      <th>Start;End;Sleep quality;Time in bed;Wake up;Sleep Notes;Heart rate;Activity (steps)</th>\n",
       "    </tr>\n",
       "  </thead>\n",
       "  <tbody>\n",
       "    <tr>\n",
       "      <th>0</th>\n",
       "      <td>2014-12-29 22:57:49;2014-12-30 07:30:13;100%;8...</td>\n",
       "    </tr>\n",
       "    <tr>\n",
       "      <th>1</th>\n",
       "      <td>2014-12-30 21:17:50;2014-12-30 21:33:54;3%;0:1...</td>\n",
       "    </tr>\n",
       "    <tr>\n",
       "      <th>2</th>\n",
       "      <td>2014-12-30 22:42:49;2014-12-31 07:13:31;98%;8:...</td>\n",
       "    </tr>\n",
       "    <tr>\n",
       "      <th>3</th>\n",
       "      <td>2014-12-31 22:31:01;2015-01-01 06:03:01;65%;7:...</td>\n",
       "    </tr>\n",
       "    <tr>\n",
       "      <th>4</th>\n",
       "      <td>2015-01-01 22:12:10;2015-01-02 04:56:35;72%;6:...</td>\n",
       "    </tr>\n",
       "  </tbody>\n",
       "</table>\n",
       "</div>"
      ],
      "text/plain": [
       "  Start;End;Sleep quality;Time in bed;Wake up;Sleep Notes;Heart rate;Activity (steps)\n",
       "0  2014-12-29 22:57:49;2014-12-30 07:30:13;100%;8...                                 \n",
       "1  2014-12-30 21:17:50;2014-12-30 21:33:54;3%;0:1...                                 \n",
       "2  2014-12-30 22:42:49;2014-12-31 07:13:31;98%;8:...                                 \n",
       "3  2014-12-31 22:31:01;2015-01-01 06:03:01;65%;7:...                                 \n",
       "4  2015-01-01 22:12:10;2015-01-02 04:56:35;72%;6:...                                 "
      ]
     },
     "execution_count": 4,
     "metadata": {},
     "output_type": "execute_result"
    }
   ],
   "source": [
    "df.head()"
   ]
  },
  {
   "cell_type": "markdown",
   "id": "75a1b2a4",
   "metadata": {},
   "source": [
    "## Split the one Column into columns"
   ]
  },
  {
   "cell_type": "code",
   "execution_count": 10,
   "id": "dc684d80",
   "metadata": {},
   "outputs": [],
   "source": [
    "df[['Start','End','Sleep quality','Time in bed','Wake up','Sleep Notes','Heart rate','Activity (steps)']] =df['Start;End;Sleep quality;Time in bed;Wake up;Sleep Notes;Heart rate;Activity (steps)'].str.split(';',8,expand =True)"
   ]
  },
  {
   "cell_type": "code",
   "execution_count": 11,
   "id": "3513dab4",
   "metadata": {},
   "outputs": [
    {
     "data": {
      "text/html": [
       "<div>\n",
       "<style scoped>\n",
       "    .dataframe tbody tr th:only-of-type {\n",
       "        vertical-align: middle;\n",
       "    }\n",
       "\n",
       "    .dataframe tbody tr th {\n",
       "        vertical-align: top;\n",
       "    }\n",
       "\n",
       "    .dataframe thead th {\n",
       "        text-align: right;\n",
       "    }\n",
       "</style>\n",
       "<table border=\"1\" class=\"dataframe\">\n",
       "  <thead>\n",
       "    <tr style=\"text-align: right;\">\n",
       "      <th></th>\n",
       "      <th>Start;End;Sleep quality;Time in bed;Wake up;Sleep Notes;Heart rate;Activity (steps)</th>\n",
       "      <th>Start</th>\n",
       "      <th>End</th>\n",
       "      <th>Sleep quality</th>\n",
       "      <th>Time in bed</th>\n",
       "      <th>Wake up</th>\n",
       "      <th>Sleep Notes</th>\n",
       "      <th>Heart rate</th>\n",
       "      <th>Activity (steps)</th>\n",
       "    </tr>\n",
       "  </thead>\n",
       "  <tbody>\n",
       "    <tr>\n",
       "      <th>0</th>\n",
       "      <td>2014-12-29 22:57:49;2014-12-30 07:30:13;100%;8...</td>\n",
       "      <td>2014-12-29 22:57:49</td>\n",
       "      <td>2014-12-30 07:30:13</td>\n",
       "      <td>100%</td>\n",
       "      <td>8:32</td>\n",
       "      <td>:)</td>\n",
       "      <td></td>\n",
       "      <td>59</td>\n",
       "      <td>0</td>\n",
       "    </tr>\n",
       "    <tr>\n",
       "      <th>1</th>\n",
       "      <td>2014-12-30 21:17:50;2014-12-30 21:33:54;3%;0:1...</td>\n",
       "      <td>2014-12-30 21:17:50</td>\n",
       "      <td>2014-12-30 21:33:54</td>\n",
       "      <td>3%</td>\n",
       "      <td>0:16</td>\n",
       "      <td>:|</td>\n",
       "      <td>Stressful day</td>\n",
       "      <td>72</td>\n",
       "      <td>0</td>\n",
       "    </tr>\n",
       "    <tr>\n",
       "      <th>2</th>\n",
       "      <td>2014-12-30 22:42:49;2014-12-31 07:13:31;98%;8:...</td>\n",
       "      <td>2014-12-30 22:42:49</td>\n",
       "      <td>2014-12-31 07:13:31</td>\n",
       "      <td>98%</td>\n",
       "      <td>8:30</td>\n",
       "      <td>:|</td>\n",
       "      <td></td>\n",
       "      <td>57</td>\n",
       "      <td>0</td>\n",
       "    </tr>\n",
       "    <tr>\n",
       "      <th>3</th>\n",
       "      <td>2014-12-31 22:31:01;2015-01-01 06:03:01;65%;7:...</td>\n",
       "      <td>2014-12-31 22:31:01</td>\n",
       "      <td>2015-01-01 06:03:01</td>\n",
       "      <td>65%</td>\n",
       "      <td>7:32</td>\n",
       "      <td></td>\n",
       "      <td></td>\n",
       "      <td></td>\n",
       "      <td>0</td>\n",
       "    </tr>\n",
       "    <tr>\n",
       "      <th>4</th>\n",
       "      <td>2015-01-01 22:12:10;2015-01-02 04:56:35;72%;6:...</td>\n",
       "      <td>2015-01-01 22:12:10</td>\n",
       "      <td>2015-01-02 04:56:35</td>\n",
       "      <td>72%</td>\n",
       "      <td>6:44</td>\n",
       "      <td>:)</td>\n",
       "      <td>Drank coffee:Drank tea</td>\n",
       "      <td>68</td>\n",
       "      <td>0</td>\n",
       "    </tr>\n",
       "  </tbody>\n",
       "</table>\n",
       "</div>"
      ],
      "text/plain": [
       "  Start;End;Sleep quality;Time in bed;Wake up;Sleep Notes;Heart rate;Activity (steps)  \\\n",
       "0  2014-12-29 22:57:49;2014-12-30 07:30:13;100%;8...                                    \n",
       "1  2014-12-30 21:17:50;2014-12-30 21:33:54;3%;0:1...                                    \n",
       "2  2014-12-30 22:42:49;2014-12-31 07:13:31;98%;8:...                                    \n",
       "3  2014-12-31 22:31:01;2015-01-01 06:03:01;65%;7:...                                    \n",
       "4  2015-01-01 22:12:10;2015-01-02 04:56:35;72%;6:...                                    \n",
       "\n",
       "                 Start                  End Sleep quality Time in bed Wake up  \\\n",
       "0  2014-12-29 22:57:49  2014-12-30 07:30:13          100%        8:32      :)   \n",
       "1  2014-12-30 21:17:50  2014-12-30 21:33:54            3%        0:16      :|   \n",
       "2  2014-12-30 22:42:49  2014-12-31 07:13:31           98%        8:30      :|   \n",
       "3  2014-12-31 22:31:01  2015-01-01 06:03:01           65%        7:32           \n",
       "4  2015-01-01 22:12:10  2015-01-02 04:56:35           72%        6:44      :)   \n",
       "\n",
       "              Sleep Notes Heart rate Activity (steps)  \n",
       "0                                 59                0  \n",
       "1           Stressful day         72                0  \n",
       "2                                 57                0  \n",
       "3                                                   0  \n",
       "4  Drank coffee:Drank tea         68                0  "
      ]
     },
     "execution_count": 11,
     "metadata": {},
     "output_type": "execute_result"
    }
   ],
   "source": [
    "df.head()"
   ]
  },
  {
   "cell_type": "markdown",
   "id": "5756409e",
   "metadata": {},
   "source": [
    "## Drop the Original Column"
   ]
  },
  {
   "cell_type": "code",
   "execution_count": 12,
   "id": "6c6203a8",
   "metadata": {},
   "outputs": [],
   "source": [
    "df.drop (columns =[\n",
    "'Start;End;Sleep quality;Time in bed;Wake up;Sleep Notes;Heart rate;Activity (steps)'],inplace =True)"
   ]
  },
  {
   "cell_type": "code",
   "execution_count": 13,
   "id": "2a889d21",
   "metadata": {},
   "outputs": [
    {
     "data": {
      "text/html": [
       "<div>\n",
       "<style scoped>\n",
       "    .dataframe tbody tr th:only-of-type {\n",
       "        vertical-align: middle;\n",
       "    }\n",
       "\n",
       "    .dataframe tbody tr th {\n",
       "        vertical-align: top;\n",
       "    }\n",
       "\n",
       "    .dataframe thead th {\n",
       "        text-align: right;\n",
       "    }\n",
       "</style>\n",
       "<table border=\"1\" class=\"dataframe\">\n",
       "  <thead>\n",
       "    <tr style=\"text-align: right;\">\n",
       "      <th></th>\n",
       "      <th>Start</th>\n",
       "      <th>End</th>\n",
       "      <th>Sleep quality</th>\n",
       "      <th>Time in bed</th>\n",
       "      <th>Wake up</th>\n",
       "      <th>Sleep Notes</th>\n",
       "      <th>Heart rate</th>\n",
       "      <th>Activity (steps)</th>\n",
       "    </tr>\n",
       "  </thead>\n",
       "  <tbody>\n",
       "    <tr>\n",
       "      <th>0</th>\n",
       "      <td>2014-12-29 22:57:49</td>\n",
       "      <td>2014-12-30 07:30:13</td>\n",
       "      <td>100%</td>\n",
       "      <td>8:32</td>\n",
       "      <td>:)</td>\n",
       "      <td></td>\n",
       "      <td>59</td>\n",
       "      <td>0</td>\n",
       "    </tr>\n",
       "    <tr>\n",
       "      <th>1</th>\n",
       "      <td>2014-12-30 21:17:50</td>\n",
       "      <td>2014-12-30 21:33:54</td>\n",
       "      <td>3%</td>\n",
       "      <td>0:16</td>\n",
       "      <td>:|</td>\n",
       "      <td>Stressful day</td>\n",
       "      <td>72</td>\n",
       "      <td>0</td>\n",
       "    </tr>\n",
       "    <tr>\n",
       "      <th>2</th>\n",
       "      <td>2014-12-30 22:42:49</td>\n",
       "      <td>2014-12-31 07:13:31</td>\n",
       "      <td>98%</td>\n",
       "      <td>8:30</td>\n",
       "      <td>:|</td>\n",
       "      <td></td>\n",
       "      <td>57</td>\n",
       "      <td>0</td>\n",
       "    </tr>\n",
       "    <tr>\n",
       "      <th>3</th>\n",
       "      <td>2014-12-31 22:31:01</td>\n",
       "      <td>2015-01-01 06:03:01</td>\n",
       "      <td>65%</td>\n",
       "      <td>7:32</td>\n",
       "      <td></td>\n",
       "      <td></td>\n",
       "      <td></td>\n",
       "      <td>0</td>\n",
       "    </tr>\n",
       "    <tr>\n",
       "      <th>4</th>\n",
       "      <td>2015-01-01 22:12:10</td>\n",
       "      <td>2015-01-02 04:56:35</td>\n",
       "      <td>72%</td>\n",
       "      <td>6:44</td>\n",
       "      <td>:)</td>\n",
       "      <td>Drank coffee:Drank tea</td>\n",
       "      <td>68</td>\n",
       "      <td>0</td>\n",
       "    </tr>\n",
       "  </tbody>\n",
       "</table>\n",
       "</div>"
      ],
      "text/plain": [
       "                 Start                  End Sleep quality Time in bed Wake up  \\\n",
       "0  2014-12-29 22:57:49  2014-12-30 07:30:13          100%        8:32      :)   \n",
       "1  2014-12-30 21:17:50  2014-12-30 21:33:54            3%        0:16      :|   \n",
       "2  2014-12-30 22:42:49  2014-12-31 07:13:31           98%        8:30      :|   \n",
       "3  2014-12-31 22:31:01  2015-01-01 06:03:01           65%        7:32           \n",
       "4  2015-01-01 22:12:10  2015-01-02 04:56:35           72%        6:44      :)   \n",
       "\n",
       "              Sleep Notes Heart rate Activity (steps)  \n",
       "0                                 59                0  \n",
       "1           Stressful day         72                0  \n",
       "2                                 57                0  \n",
       "3                                                   0  \n",
       "4  Drank coffee:Drank tea         68                0  "
      ]
     },
     "execution_count": 13,
     "metadata": {},
     "output_type": "execute_result"
    }
   ],
   "source": [
    "df.head()"
   ]
  },
  {
   "cell_type": "code",
   "execution_count": 14,
   "id": "db926a7c",
   "metadata": {},
   "outputs": [
    {
     "name": "stdout",
     "output_type": "stream",
     "text": [
      "<class 'pandas.core.frame.DataFrame'>\n",
      "RangeIndex: 887 entries, 0 to 886\n",
      "Data columns (total 8 columns):\n",
      " #   Column            Non-Null Count  Dtype \n",
      "---  ------            --------------  ----- \n",
      " 0   Start             887 non-null    object\n",
      " 1   End               887 non-null    object\n",
      " 2   Sleep quality     887 non-null    object\n",
      " 3   Time in bed       887 non-null    object\n",
      " 4   Wake up           887 non-null    object\n",
      " 5   Sleep Notes       887 non-null    object\n",
      " 6   Heart rate        887 non-null    object\n",
      " 7   Activity (steps)  887 non-null    object\n",
      "dtypes: object(8)\n",
      "memory usage: 55.6+ KB\n"
     ]
    }
   ],
   "source": [
    "df.info()"
   ]
  },
  {
   "cell_type": "code",
   "execution_count": 15,
   "id": "186c0ce1",
   "metadata": {},
   "outputs": [
    {
     "data": {
      "text/plain": [
       "Index(['Start', 'End', 'Sleep quality', 'Time in bed', 'Wake up',\n",
       "       'Sleep Notes', 'Heart rate', 'Activity (steps)'],\n",
       "      dtype='object')"
      ]
     },
     "execution_count": 15,
     "metadata": {},
     "output_type": "execute_result"
    }
   ],
   "source": [
    "df.columns"
   ]
  },
  {
   "cell_type": "code",
   "execution_count": 16,
   "id": "1a167e40",
   "metadata": {},
   "outputs": [
    {
     "data": {
      "text/plain": [
       "Start               0\n",
       "End                 0\n",
       "Sleep quality       0\n",
       "Time in bed         0\n",
       "Wake up             0\n",
       "Sleep Notes         0\n",
       "Heart rate          0\n",
       "Activity (steps)    0\n",
       "dtype: int64"
      ]
     },
     "execution_count": 16,
     "metadata": {},
     "output_type": "execute_result"
    }
   ],
   "source": [
    "df.isnull().sum()"
   ]
  },
  {
   "cell_type": "code",
   "execution_count": 17,
   "id": "26c97d15",
   "metadata": {},
   "outputs": [
    {
     "data": {
      "text/plain": [
       "0"
      ]
     },
     "execution_count": 17,
     "metadata": {},
     "output_type": "execute_result"
    }
   ],
   "source": [
    "df.duplicated().sum()"
   ]
  },
  {
   "cell_type": "code",
   "execution_count": 20,
   "id": "55b9ab97",
   "metadata": {},
   "outputs": [
    {
     "data": {
      "text/plain": [
       "Start               object\n",
       "End                 object\n",
       "Sleep quality       object\n",
       "Time in bed         object\n",
       "Wake up             object\n",
       "Sleep Notes         object\n",
       "Heart rate          object\n",
       "Activity (steps)    object\n",
       "dtype: object"
      ]
     },
     "execution_count": 20,
     "metadata": {},
     "output_type": "execute_result"
    }
   ],
   "source": [
    "df.dtypes"
   ]
  },
  {
   "cell_type": "markdown",
   "id": "7d969363",
   "metadata": {},
   "source": [
    "## convert objects columns into numerics"
   ]
  },
  {
   "cell_type": "code",
   "execution_count": 21,
   "id": "976d575a",
   "metadata": {},
   "outputs": [],
   "source": [
    "df['Activity (steps)'] = df['Activity (steps)'].astype('int64')"
   ]
  },
  {
   "cell_type": "code",
   "execution_count": 23,
   "id": "a6933c6d",
   "metadata": {},
   "outputs": [],
   "source": [
    "df['Heart rate'] = pd.to_numeric(df['Heart rate'])"
   ]
  },
  {
   "cell_type": "code",
   "execution_count": 24,
   "id": "6308cdce",
   "metadata": {},
   "outputs": [
    {
     "data": {
      "text/plain": [
       "Start                object\n",
       "End                  object\n",
       "Sleep quality        object\n",
       "Time in bed          object\n",
       "Wake up              object\n",
       "Sleep Notes          object\n",
       "Heart rate          float64\n",
       "Activity (steps)      int64\n",
       "dtype: object"
      ]
     },
     "execution_count": 24,
     "metadata": {},
     "output_type": "execute_result"
    }
   ],
   "source": [
    "df.dtypes"
   ]
  },
  {
   "cell_type": "code",
   "execution_count": 31,
   "id": "7f9b5525",
   "metadata": {},
   "outputs": [
    {
     "data": {
      "text/html": [
       "<div>\n",
       "<style scoped>\n",
       "    .dataframe tbody tr th:only-of-type {\n",
       "        vertical-align: middle;\n",
       "    }\n",
       "\n",
       "    .dataframe tbody tr th {\n",
       "        vertical-align: top;\n",
       "    }\n",
       "\n",
       "    .dataframe thead th {\n",
       "        text-align: right;\n",
       "    }\n",
       "</style>\n",
       "<table border=\"1\" class=\"dataframe\">\n",
       "  <thead>\n",
       "    <tr style=\"text-align: right;\">\n",
       "      <th></th>\n",
       "      <th>Start</th>\n",
       "      <th>End</th>\n",
       "      <th>Sleep quality</th>\n",
       "      <th>Time in bed</th>\n",
       "      <th>Wake up</th>\n",
       "      <th>Sleep Notes</th>\n",
       "      <th>Heart rate</th>\n",
       "      <th>Activity (steps)</th>\n",
       "    </tr>\n",
       "  </thead>\n",
       "  <tbody>\n",
       "    <tr>\n",
       "      <th>872</th>\n",
       "      <td>2018-02-03 02:20:39</td>\n",
       "      <td>2018-02-03 07:44:10</td>\n",
       "      <td>65</td>\n",
       "      <td>5:23</td>\n",
       "      <td></td>\n",
       "      <td></td>\n",
       "      <td>NaN</td>\n",
       "      <td>4810</td>\n",
       "    </tr>\n",
       "    <tr>\n",
       "      <th>873</th>\n",
       "      <td>2018-02-03 08:32:14</td>\n",
       "      <td>2018-02-03 09:08:44</td>\n",
       "      <td>8</td>\n",
       "      <td>0:36</td>\n",
       "      <td></td>\n",
       "      <td></td>\n",
       "      <td>NaN</td>\n",
       "      <td>166</td>\n",
       "    </tr>\n",
       "    <tr>\n",
       "      <th>874</th>\n",
       "      <td>2018-02-03 22:29:00</td>\n",
       "      <td>2018-02-04 07:37:14</td>\n",
       "      <td>96</td>\n",
       "      <td>9:08</td>\n",
       "      <td></td>\n",
       "      <td></td>\n",
       "      <td>NaN</td>\n",
       "      <td>362</td>\n",
       "    </tr>\n",
       "    <tr>\n",
       "      <th>875</th>\n",
       "      <td>2018-02-04 23:09:25</td>\n",
       "      <td>2018-02-05 06:01:30</td>\n",
       "      <td>72</td>\n",
       "      <td>6:52</td>\n",
       "      <td></td>\n",
       "      <td></td>\n",
       "      <td>NaN</td>\n",
       "      <td>2528</td>\n",
       "    </tr>\n",
       "    <tr>\n",
       "      <th>876</th>\n",
       "      <td>2018-02-05 22:02:05</td>\n",
       "      <td>2018-02-06 06:00:17</td>\n",
       "      <td>78</td>\n",
       "      <td>7:58</td>\n",
       "      <td></td>\n",
       "      <td></td>\n",
       "      <td>NaN</td>\n",
       "      <td>7982</td>\n",
       "    </tr>\n",
       "    <tr>\n",
       "      <th>877</th>\n",
       "      <td>2018-02-06 21:44:05</td>\n",
       "      <td>2018-02-07 06:12:59</td>\n",
       "      <td>82</td>\n",
       "      <td>8:28</td>\n",
       "      <td></td>\n",
       "      <td></td>\n",
       "      <td>NaN</td>\n",
       "      <td>5039</td>\n",
       "    </tr>\n",
       "    <tr>\n",
       "      <th>878</th>\n",
       "      <td>2018-02-07 23:18:52</td>\n",
       "      <td>2018-02-08 06:48:07</td>\n",
       "      <td>73</td>\n",
       "      <td>7:29</td>\n",
       "      <td></td>\n",
       "      <td></td>\n",
       "      <td>NaN</td>\n",
       "      <td>2435</td>\n",
       "    </tr>\n",
       "    <tr>\n",
       "      <th>879</th>\n",
       "      <td>2018-02-08 22:41:38</td>\n",
       "      <td>2018-02-09 06:00:24</td>\n",
       "      <td>93</td>\n",
       "      <td>7:18</td>\n",
       "      <td></td>\n",
       "      <td></td>\n",
       "      <td>NaN</td>\n",
       "      <td>68</td>\n",
       "    </tr>\n",
       "    <tr>\n",
       "      <th>880</th>\n",
       "      <td>2018-02-09 23:07:55</td>\n",
       "      <td>2018-02-10 07:26:34</td>\n",
       "      <td>76</td>\n",
       "      <td>8:18</td>\n",
       "      <td></td>\n",
       "      <td></td>\n",
       "      <td>NaN</td>\n",
       "      <td>5598</td>\n",
       "    </tr>\n",
       "    <tr>\n",
       "      <th>881</th>\n",
       "      <td>2018-02-11 22:44:25</td>\n",
       "      <td>2018-02-12 07:08:28</td>\n",
       "      <td>91</td>\n",
       "      <td>8:24</td>\n",
       "      <td></td>\n",
       "      <td></td>\n",
       "      <td>NaN</td>\n",
       "      <td>1901</td>\n",
       "    </tr>\n",
       "    <tr>\n",
       "      <th>882</th>\n",
       "      <td>2018-02-12 21:54:14</td>\n",
       "      <td>2018-02-13 07:02:15</td>\n",
       "      <td>91</td>\n",
       "      <td>9:08</td>\n",
       "      <td></td>\n",
       "      <td></td>\n",
       "      <td>NaN</td>\n",
       "      <td>56</td>\n",
       "    </tr>\n",
       "    <tr>\n",
       "      <th>883</th>\n",
       "      <td>2018-02-13 23:49:19</td>\n",
       "      <td>2018-02-14 07:00:53</td>\n",
       "      <td>81</td>\n",
       "      <td>7:11</td>\n",
       "      <td></td>\n",
       "      <td></td>\n",
       "      <td>NaN</td>\n",
       "      <td>64</td>\n",
       "    </tr>\n",
       "    <tr>\n",
       "      <th>884</th>\n",
       "      <td>2018-02-14 21:24:05</td>\n",
       "      <td>2018-02-15 06:20:52</td>\n",
       "      <td>71</td>\n",
       "      <td>8:56</td>\n",
       "      <td></td>\n",
       "      <td></td>\n",
       "      <td>NaN</td>\n",
       "      <td>3316</td>\n",
       "    </tr>\n",
       "    <tr>\n",
       "      <th>885</th>\n",
       "      <td>2018-02-15 21:36:32</td>\n",
       "      <td>2018-02-16 06:50:31</td>\n",
       "      <td>80</td>\n",
       "      <td>9:13</td>\n",
       "      <td></td>\n",
       "      <td></td>\n",
       "      <td>NaN</td>\n",
       "      <td>6555</td>\n",
       "    </tr>\n",
       "    <tr>\n",
       "      <th>886</th>\n",
       "      <td>2018-02-16 22:52:29</td>\n",
       "      <td>2018-02-17 07:48:04</td>\n",
       "      <td>91</td>\n",
       "      <td>8:55</td>\n",
       "      <td></td>\n",
       "      <td></td>\n",
       "      <td>NaN</td>\n",
       "      <td>2291</td>\n",
       "    </tr>\n",
       "  </tbody>\n",
       "</table>\n",
       "</div>"
      ],
      "text/plain": [
       "                   Start                  End  Sleep quality Time in bed  \\\n",
       "872  2018-02-03 02:20:39  2018-02-03 07:44:10             65        5:23   \n",
       "873  2018-02-03 08:32:14  2018-02-03 09:08:44              8        0:36   \n",
       "874  2018-02-03 22:29:00  2018-02-04 07:37:14             96        9:08   \n",
       "875  2018-02-04 23:09:25  2018-02-05 06:01:30             72        6:52   \n",
       "876  2018-02-05 22:02:05  2018-02-06 06:00:17             78        7:58   \n",
       "877  2018-02-06 21:44:05  2018-02-07 06:12:59             82        8:28   \n",
       "878  2018-02-07 23:18:52  2018-02-08 06:48:07             73        7:29   \n",
       "879  2018-02-08 22:41:38  2018-02-09 06:00:24             93        7:18   \n",
       "880  2018-02-09 23:07:55  2018-02-10 07:26:34             76        8:18   \n",
       "881  2018-02-11 22:44:25  2018-02-12 07:08:28             91        8:24   \n",
       "882  2018-02-12 21:54:14  2018-02-13 07:02:15             91        9:08   \n",
       "883  2018-02-13 23:49:19  2018-02-14 07:00:53             81        7:11   \n",
       "884  2018-02-14 21:24:05  2018-02-15 06:20:52             71        8:56   \n",
       "885  2018-02-15 21:36:32  2018-02-16 06:50:31             80        9:13   \n",
       "886  2018-02-16 22:52:29  2018-02-17 07:48:04             91        8:55   \n",
       "\n",
       "    Wake up Sleep Notes  Heart rate  Activity (steps)  \n",
       "872                             NaN              4810  \n",
       "873                             NaN               166  \n",
       "874                             NaN               362  \n",
       "875                             NaN              2528  \n",
       "876                             NaN              7982  \n",
       "877                             NaN              5039  \n",
       "878                             NaN              2435  \n",
       "879                             NaN                68  \n",
       "880                             NaN              5598  \n",
       "881                             NaN              1901  \n",
       "882                             NaN                56  \n",
       "883                             NaN                64  \n",
       "884                             NaN              3316  \n",
       "885                             NaN              6555  \n",
       "886                             NaN              2291  "
      ]
     },
     "execution_count": 31,
     "metadata": {},
     "output_type": "execute_result"
    }
   ],
   "source": [
    "df.tail(15)"
   ]
  },
  {
   "cell_type": "code",
   "execution_count": 26,
   "id": "ab4cd42a",
   "metadata": {},
   "outputs": [],
   "source": [
    "df['Sleep quality'] = df['Sleep quality'].str.replace('%','')"
   ]
  },
  {
   "cell_type": "code",
   "execution_count": 28,
   "id": "83201698",
   "metadata": {},
   "outputs": [],
   "source": [
    "df['Sleep quality'] =pd.to_numeric(df['Sleep quality'])"
   ]
  },
  {
   "cell_type": "code",
   "execution_count": 29,
   "id": "d98efbad",
   "metadata": {},
   "outputs": [
    {
     "data": {
      "text/plain": [
       "Start                object\n",
       "End                  object\n",
       "Sleep quality         int64\n",
       "Time in bed          object\n",
       "Wake up              object\n",
       "Sleep Notes          object\n",
       "Heart rate          float64\n",
       "Activity (steps)      int64\n",
       "dtype: object"
      ]
     },
     "execution_count": 29,
     "metadata": {},
     "output_type": "execute_result"
    }
   ],
   "source": [
    "df.dtypes"
   ]
  },
  {
   "cell_type": "code",
   "execution_count": 32,
   "id": "848913bc",
   "metadata": {},
   "outputs": [],
   "source": [
    "df['Start'] = pd.to_datetime(df['Start'])\n",
    "df['End'] = pd.to_datetime(df['End'])"
   ]
  },
  {
   "cell_type": "code",
   "execution_count": 33,
   "id": "ccb26057",
   "metadata": {},
   "outputs": [
    {
     "data": {
      "text/plain": [
       "Start               datetime64[ns]\n",
       "End                 datetime64[ns]\n",
       "Sleep quality                int64\n",
       "Time in bed                 object\n",
       "Wake up                     object\n",
       "Sleep Notes                 object\n",
       "Heart rate                 float64\n",
       "Activity (steps)             int64\n",
       "dtype: object"
      ]
     },
     "execution_count": 33,
     "metadata": {},
     "output_type": "execute_result"
    }
   ],
   "source": [
    "df.dtypes"
   ]
  },
  {
   "cell_type": "code",
   "execution_count": 34,
   "id": "63b43429",
   "metadata": {},
   "outputs": [
    {
     "data": {
      "text/html": [
       "<div>\n",
       "<style scoped>\n",
       "    .dataframe tbody tr th:only-of-type {\n",
       "        vertical-align: middle;\n",
       "    }\n",
       "\n",
       "    .dataframe tbody tr th {\n",
       "        vertical-align: top;\n",
       "    }\n",
       "\n",
       "    .dataframe thead th {\n",
       "        text-align: right;\n",
       "    }\n",
       "</style>\n",
       "<table border=\"1\" class=\"dataframe\">\n",
       "  <thead>\n",
       "    <tr style=\"text-align: right;\">\n",
       "      <th></th>\n",
       "      <th>Start</th>\n",
       "      <th>End</th>\n",
       "      <th>Sleep quality</th>\n",
       "      <th>Time in bed</th>\n",
       "      <th>Wake up</th>\n",
       "      <th>Sleep Notes</th>\n",
       "      <th>Heart rate</th>\n",
       "      <th>Activity (steps)</th>\n",
       "    </tr>\n",
       "  </thead>\n",
       "  <tbody>\n",
       "    <tr>\n",
       "      <th>0</th>\n",
       "      <td>2014-12-29 22:57:49</td>\n",
       "      <td>2014-12-30 07:30:13</td>\n",
       "      <td>100</td>\n",
       "      <td>8:32</td>\n",
       "      <td>:)</td>\n",
       "      <td></td>\n",
       "      <td>59.0</td>\n",
       "      <td>0</td>\n",
       "    </tr>\n",
       "    <tr>\n",
       "      <th>1</th>\n",
       "      <td>2014-12-30 21:17:50</td>\n",
       "      <td>2014-12-30 21:33:54</td>\n",
       "      <td>3</td>\n",
       "      <td>0:16</td>\n",
       "      <td>:|</td>\n",
       "      <td>Stressful day</td>\n",
       "      <td>72.0</td>\n",
       "      <td>0</td>\n",
       "    </tr>\n",
       "    <tr>\n",
       "      <th>2</th>\n",
       "      <td>2014-12-30 22:42:49</td>\n",
       "      <td>2014-12-31 07:13:31</td>\n",
       "      <td>98</td>\n",
       "      <td>8:30</td>\n",
       "      <td>:|</td>\n",
       "      <td></td>\n",
       "      <td>57.0</td>\n",
       "      <td>0</td>\n",
       "    </tr>\n",
       "    <tr>\n",
       "      <th>3</th>\n",
       "      <td>2014-12-31 22:31:01</td>\n",
       "      <td>2015-01-01 06:03:01</td>\n",
       "      <td>65</td>\n",
       "      <td>7:32</td>\n",
       "      <td></td>\n",
       "      <td></td>\n",
       "      <td>NaN</td>\n",
       "      <td>0</td>\n",
       "    </tr>\n",
       "    <tr>\n",
       "      <th>4</th>\n",
       "      <td>2015-01-01 22:12:10</td>\n",
       "      <td>2015-01-02 04:56:35</td>\n",
       "      <td>72</td>\n",
       "      <td>6:44</td>\n",
       "      <td>:)</td>\n",
       "      <td>Drank coffee:Drank tea</td>\n",
       "      <td>68.0</td>\n",
       "      <td>0</td>\n",
       "    </tr>\n",
       "    <tr>\n",
       "      <th>5</th>\n",
       "      <td>2015-01-03 00:34:57</td>\n",
       "      <td>2015-01-03 07:47:23</td>\n",
       "      <td>83</td>\n",
       "      <td>7:12</td>\n",
       "      <td>:)</td>\n",
       "      <td>Drank coffee:Drank tea</td>\n",
       "      <td>60.0</td>\n",
       "      <td>0</td>\n",
       "    </tr>\n",
       "    <tr>\n",
       "      <th>6</th>\n",
       "      <td>2015-01-04 00:23:06</td>\n",
       "      <td>2015-01-04 07:37:09</td>\n",
       "      <td>78</td>\n",
       "      <td>7:14</td>\n",
       "      <td></td>\n",
       "      <td>Drank tea</td>\n",
       "      <td>NaN</td>\n",
       "      <td>0</td>\n",
       "    </tr>\n",
       "    <tr>\n",
       "      <th>7</th>\n",
       "      <td>2015-01-04 21:34:44</td>\n",
       "      <td>2015-01-05 04:53:34</td>\n",
       "      <td>78</td>\n",
       "      <td>7:18</td>\n",
       "      <td>:)</td>\n",
       "      <td>Ate late:Drank coffee</td>\n",
       "      <td>57.0</td>\n",
       "      <td>0</td>\n",
       "    </tr>\n",
       "    <tr>\n",
       "      <th>8</th>\n",
       "      <td>2015-01-05 21:32:25</td>\n",
       "      <td>2015-01-06 05:00:03</td>\n",
       "      <td>69</td>\n",
       "      <td>7:27</td>\n",
       "      <td>:)</td>\n",
       "      <td>Drank coffee:Drank tea:Worked out</td>\n",
       "      <td>56.0</td>\n",
       "      <td>0</td>\n",
       "    </tr>\n",
       "    <tr>\n",
       "      <th>9</th>\n",
       "      <td>2015-01-06 21:24:56</td>\n",
       "      <td>2015-01-07 05:00:02</td>\n",
       "      <td>74</td>\n",
       "      <td>7:35</td>\n",
       "      <td>:|</td>\n",
       "      <td>Drank tea:Worked out</td>\n",
       "      <td>64.0</td>\n",
       "      <td>0</td>\n",
       "    </tr>\n",
       "  </tbody>\n",
       "</table>\n",
       "</div>"
      ],
      "text/plain": [
       "                Start                 End  Sleep quality Time in bed Wake up  \\\n",
       "0 2014-12-29 22:57:49 2014-12-30 07:30:13            100        8:32      :)   \n",
       "1 2014-12-30 21:17:50 2014-12-30 21:33:54              3        0:16      :|   \n",
       "2 2014-12-30 22:42:49 2014-12-31 07:13:31             98        8:30      :|   \n",
       "3 2014-12-31 22:31:01 2015-01-01 06:03:01             65        7:32           \n",
       "4 2015-01-01 22:12:10 2015-01-02 04:56:35             72        6:44      :)   \n",
       "5 2015-01-03 00:34:57 2015-01-03 07:47:23             83        7:12      :)   \n",
       "6 2015-01-04 00:23:06 2015-01-04 07:37:09             78        7:14           \n",
       "7 2015-01-04 21:34:44 2015-01-05 04:53:34             78        7:18      :)   \n",
       "8 2015-01-05 21:32:25 2015-01-06 05:00:03             69        7:27      :)   \n",
       "9 2015-01-06 21:24:56 2015-01-07 05:00:02             74        7:35      :|   \n",
       "\n",
       "                         Sleep Notes  Heart rate  Activity (steps)  \n",
       "0                                           59.0                 0  \n",
       "1                      Stressful day        72.0                 0  \n",
       "2                                           57.0                 0  \n",
       "3                                            NaN                 0  \n",
       "4             Drank coffee:Drank tea        68.0                 0  \n",
       "5             Drank coffee:Drank tea        60.0                 0  \n",
       "6                          Drank tea         NaN                 0  \n",
       "7              Ate late:Drank coffee        57.0                 0  \n",
       "8  Drank coffee:Drank tea:Worked out        56.0                 0  \n",
       "9               Drank tea:Worked out        64.0                 0  "
      ]
     },
     "execution_count": 34,
     "metadata": {},
     "output_type": "execute_result"
    }
   ],
   "source": [
    "df.head(10)"
   ]
  },
  {
   "cell_type": "code",
   "execution_count": 35,
   "id": "da342a24",
   "metadata": {},
   "outputs": [
    {
     "data": {
      "text/plain": [
       "Start                 0\n",
       "End                   0\n",
       "Sleep quality         0\n",
       "Time in bed           0\n",
       "Wake up               0\n",
       "Sleep Notes           0\n",
       "Heart rate          725\n",
       "Activity (steps)      0\n",
       "dtype: int64"
      ]
     },
     "execution_count": 35,
     "metadata": {},
     "output_type": "execute_result"
    }
   ],
   "source": [
    "df.isnull().sum()"
   ]
  },
  {
   "cell_type": "markdown",
   "id": "813685c7",
   "metadata": {},
   "source": [
    "## Filling Nan  values of heart rate from the previous value"
   ]
  },
  {
   "cell_type": "code",
   "execution_count": 36,
   "id": "5c476d13",
   "metadata": {},
   "outputs": [
    {
     "data": {
      "text/html": [
       "<div>\n",
       "<style scoped>\n",
       "    .dataframe tbody tr th:only-of-type {\n",
       "        vertical-align: middle;\n",
       "    }\n",
       "\n",
       "    .dataframe tbody tr th {\n",
       "        vertical-align: top;\n",
       "    }\n",
       "\n",
       "    .dataframe thead th {\n",
       "        text-align: right;\n",
       "    }\n",
       "</style>\n",
       "<table border=\"1\" class=\"dataframe\">\n",
       "  <thead>\n",
       "    <tr style=\"text-align: right;\">\n",
       "      <th></th>\n",
       "      <th>Start</th>\n",
       "      <th>End</th>\n",
       "      <th>Sleep quality</th>\n",
       "      <th>Time in bed</th>\n",
       "      <th>Wake up</th>\n",
       "      <th>Sleep Notes</th>\n",
       "      <th>Heart rate</th>\n",
       "      <th>Activity (steps)</th>\n",
       "    </tr>\n",
       "  </thead>\n",
       "  <tbody>\n",
       "    <tr>\n",
       "      <th>0</th>\n",
       "      <td>2014-12-29 22:57:49</td>\n",
       "      <td>2014-12-30 07:30:13</td>\n",
       "      <td>100</td>\n",
       "      <td>8:32</td>\n",
       "      <td>:)</td>\n",
       "      <td></td>\n",
       "      <td>59.0</td>\n",
       "      <td>0</td>\n",
       "    </tr>\n",
       "    <tr>\n",
       "      <th>1</th>\n",
       "      <td>2014-12-30 21:17:50</td>\n",
       "      <td>2014-12-30 21:33:54</td>\n",
       "      <td>3</td>\n",
       "      <td>0:16</td>\n",
       "      <td>:|</td>\n",
       "      <td>Stressful day</td>\n",
       "      <td>72.0</td>\n",
       "      <td>0</td>\n",
       "    </tr>\n",
       "    <tr>\n",
       "      <th>2</th>\n",
       "      <td>2014-12-30 22:42:49</td>\n",
       "      <td>2014-12-31 07:13:31</td>\n",
       "      <td>98</td>\n",
       "      <td>8:30</td>\n",
       "      <td>:|</td>\n",
       "      <td></td>\n",
       "      <td>57.0</td>\n",
       "      <td>0</td>\n",
       "    </tr>\n",
       "    <tr>\n",
       "      <th>3</th>\n",
       "      <td>2014-12-31 22:31:01</td>\n",
       "      <td>2015-01-01 06:03:01</td>\n",
       "      <td>65</td>\n",
       "      <td>7:32</td>\n",
       "      <td></td>\n",
       "      <td></td>\n",
       "      <td>57.0</td>\n",
       "      <td>0</td>\n",
       "    </tr>\n",
       "    <tr>\n",
       "      <th>4</th>\n",
       "      <td>2015-01-01 22:12:10</td>\n",
       "      <td>2015-01-02 04:56:35</td>\n",
       "      <td>72</td>\n",
       "      <td>6:44</td>\n",
       "      <td>:)</td>\n",
       "      <td>Drank coffee:Drank tea</td>\n",
       "      <td>68.0</td>\n",
       "      <td>0</td>\n",
       "    </tr>\n",
       "    <tr>\n",
       "      <th>...</th>\n",
       "      <td>...</td>\n",
       "      <td>...</td>\n",
       "      <td>...</td>\n",
       "      <td>...</td>\n",
       "      <td>...</td>\n",
       "      <td>...</td>\n",
       "      <td>...</td>\n",
       "      <td>...</td>\n",
       "    </tr>\n",
       "    <tr>\n",
       "      <th>882</th>\n",
       "      <td>2018-02-12 21:54:14</td>\n",
       "      <td>2018-02-13 07:02:15</td>\n",
       "      <td>91</td>\n",
       "      <td>9:08</td>\n",
       "      <td></td>\n",
       "      <td></td>\n",
       "      <td>65.0</td>\n",
       "      <td>56</td>\n",
       "    </tr>\n",
       "    <tr>\n",
       "      <th>883</th>\n",
       "      <td>2018-02-13 23:49:19</td>\n",
       "      <td>2018-02-14 07:00:53</td>\n",
       "      <td>81</td>\n",
       "      <td>7:11</td>\n",
       "      <td></td>\n",
       "      <td></td>\n",
       "      <td>65.0</td>\n",
       "      <td>64</td>\n",
       "    </tr>\n",
       "    <tr>\n",
       "      <th>884</th>\n",
       "      <td>2018-02-14 21:24:05</td>\n",
       "      <td>2018-02-15 06:20:52</td>\n",
       "      <td>71</td>\n",
       "      <td>8:56</td>\n",
       "      <td></td>\n",
       "      <td></td>\n",
       "      <td>65.0</td>\n",
       "      <td>3316</td>\n",
       "    </tr>\n",
       "    <tr>\n",
       "      <th>885</th>\n",
       "      <td>2018-02-15 21:36:32</td>\n",
       "      <td>2018-02-16 06:50:31</td>\n",
       "      <td>80</td>\n",
       "      <td>9:13</td>\n",
       "      <td></td>\n",
       "      <td></td>\n",
       "      <td>65.0</td>\n",
       "      <td>6555</td>\n",
       "    </tr>\n",
       "    <tr>\n",
       "      <th>886</th>\n",
       "      <td>2018-02-16 22:52:29</td>\n",
       "      <td>2018-02-17 07:48:04</td>\n",
       "      <td>91</td>\n",
       "      <td>8:55</td>\n",
       "      <td></td>\n",
       "      <td></td>\n",
       "      <td>65.0</td>\n",
       "      <td>2291</td>\n",
       "    </tr>\n",
       "  </tbody>\n",
       "</table>\n",
       "<p>887 rows × 8 columns</p>\n",
       "</div>"
      ],
      "text/plain": [
       "                  Start                 End  Sleep quality Time in bed  \\\n",
       "0   2014-12-29 22:57:49 2014-12-30 07:30:13            100        8:32   \n",
       "1   2014-12-30 21:17:50 2014-12-30 21:33:54              3        0:16   \n",
       "2   2014-12-30 22:42:49 2014-12-31 07:13:31             98        8:30   \n",
       "3   2014-12-31 22:31:01 2015-01-01 06:03:01             65        7:32   \n",
       "4   2015-01-01 22:12:10 2015-01-02 04:56:35             72        6:44   \n",
       "..                  ...                 ...            ...         ...   \n",
       "882 2018-02-12 21:54:14 2018-02-13 07:02:15             91        9:08   \n",
       "883 2018-02-13 23:49:19 2018-02-14 07:00:53             81        7:11   \n",
       "884 2018-02-14 21:24:05 2018-02-15 06:20:52             71        8:56   \n",
       "885 2018-02-15 21:36:32 2018-02-16 06:50:31             80        9:13   \n",
       "886 2018-02-16 22:52:29 2018-02-17 07:48:04             91        8:55   \n",
       "\n",
       "    Wake up             Sleep Notes  Heart rate  Activity (steps)  \n",
       "0        :)                                59.0                 0  \n",
       "1        :|           Stressful day        72.0                 0  \n",
       "2        :|                                57.0                 0  \n",
       "3                                          57.0                 0  \n",
       "4        :)  Drank coffee:Drank tea        68.0                 0  \n",
       "..      ...                     ...         ...               ...  \n",
       "882                                        65.0                56  \n",
       "883                                        65.0                64  \n",
       "884                                        65.0              3316  \n",
       "885                                        65.0              6555  \n",
       "886                                        65.0              2291  \n",
       "\n",
       "[887 rows x 8 columns]"
      ]
     },
     "execution_count": 36,
     "metadata": {},
     "output_type": "execute_result"
    }
   ],
   "source": [
    "df.fillna(method='ffill')"
   ]
  },
  {
   "cell_type": "code",
   "execution_count": 38,
   "id": "5d881f1d",
   "metadata": {},
   "outputs": [
    {
     "data": {
      "text/plain": [
       "<AxesSubplot:xlabel='Activity (steps)', ylabel='Sleep quality'>"
      ]
     },
     "execution_count": 38,
     "metadata": {},
     "output_type": "execute_result"
    },
    {
     "data": {
      "image/png": "[encoded data removed]",
      "text/plain": [
       "<Figure size 1000x500 with 1 Axes>"
      ]
     },
     "metadata": {
      "needs_background": "light"
     },
     "output_type": "display_data"
    }
   ],
   "source": [
    "plt.figure(figsize=(10,5),dpi=100)\n",
    "sns.lineplot(x='Activity (steps)',y='Sleep quality',data =df)"
   ]
  },
  {
   "cell_type": "markdown",
   "id": "12921721",
   "metadata": {},
   "source": [
    "## Making a boxplot for quality rate"
   ]
  },
  {
   "cell_type": "code",
   "execution_count": 42,
   "id": "357a6052",
   "metadata": {},
   "outputs": [
    {
     "name": "stderr",
     "output_type": "stream",
     "text": [
      "C:\\Users\\SH2\\anaconda3\\lib\\site-packages\\seaborn\\_decorators.py:36: FutureWarning: Pass the following variable as a keyword arg: x. From version 0.12, the only valid positional argument will be `data`, and passing other arguments without an explicit keyword will result in an error or misinterpretation.\n",
      "  warnings.warn(\n"
     ]
    },
    {
     "data": {
      "text/plain": [
       "<AxesSubplot:xlabel='Sleep quality'>"
      ]
     },
     "execution_count": 42,
     "metadata": {},
     "output_type": "execute_result"
    },
    {
     "data": {
      "image/png": "[encoded data removed]",
      "text/plain": [
       "<Figure size 864x432 with 1 Axes>"
      ]
     },
     "metadata": {
      "needs_background": "light"
     },
     "output_type": "display_data"
    }
   ],
   "source": [
    "plt.figure(figsize=(12,6))\n",
    "sns.boxplot(df['Sleep quality'])\n"
   ]
  },
  {
   "cell_type": "code",
   "execution_count": 45,
   "id": "9255f02c",
   "metadata": {},
   "outputs": [
    {
     "data": {
      "text/plain": [
       "<AxesSubplot:xlabel='Activity (steps)', ylabel='Sleep quality'>"
      ]
     },
     "execution_count": 45,
     "metadata": {},
     "output_type": "execute_result"
    },
    {
     "data": {
      "image/png": "[encoded data removed]",
      "text/plain": [
       "<Figure size 1000x500 with 1 Axes>"
      ]
     },
     "metadata": {
      "needs_background": "light"
     },
     "output_type": "display_data"
    }
   ],
   "source": [
    "plt.figure(figsize=(10,5),dpi=100)\n",
    "sns.regplot(x='Activity (steps)',y='Sleep quality',data =df,color='red')"
   ]
  },
  {
   "cell_type": "code",
   "execution_count": 46,
   "id": "acb79efa",
   "metadata": {},
   "outputs": [
    {
     "data": {
      "text/plain": [
       "array([59., 72., 57., nan, 68., 60., 56., 64., 62., 58., 65., 53., 55.,\n",
       "       94., 67., 54., 75., 66., 63., 61., 71., 51., 52., 91., 50., 76.,\n",
       "       69., 74., 49., 70., 98.])"
      ]
     },
     "execution_count": 46,
     "metadata": {},
     "output_type": "execute_result"
    }
   ],
   "source": [
    "df['Heart rate'].unique()"
   ]
  },
  {
   "cell_type": "code",
   "execution_count": 50,
   "id": "84916cd4",
   "metadata": {},
   "outputs": [
    {
     "data": {
      "text/plain": [
       "<AxesSubplot:xlabel='Heart rate', ylabel='Count'>"
      ]
     },
     "execution_count": 50,
     "metadata": {},
     "output_type": "execute_result"
    },
    {
     "data": {
      "image/png": "[encoded data removed]",
      "text/plain": [
       "<Figure size 864x432 with 1 Axes>"
      ]
     },
     "metadata": {
      "needs_background": "light"
     },
     "output_type": "display_data"
    }
   ],
   "source": [
    "plt.figure(figsize=(12,6))\n",
    "sns.histplot(df['Heart rate'],kde=True)"
   ]
  },
  {
   "cell_type": "code",
   "execution_count": 51,
   "id": "78e7d311",
   "metadata": {},
   "outputs": [
    {
     "data": {
      "text/plain": [
       "<AxesSubplot:xlabel='Sleep quality', ylabel='Count'>"
      ]
     },
     "execution_count": 51,
     "metadata": {},
     "output_type": "execute_result"
    },
    {
     "data": {
      "image/png": "[encoded data removed]",
      "text/plain": [
       "<Figure size 864x432 with 1 Axes>"
      ]
     },
     "metadata": {
      "needs_background": "light"
     },
     "output_type": "display_data"
    }
   ],
   "source": [
    "plt.figure(figsize=(12,6))\n",
    "sns.histplot(df['Sleep quality'],kde=True)"
   ]
  },
  {
   "cell_type": "code",
   "execution_count": 54,
   "id": "b81c7a93",
   "metadata": {},
   "outputs": [
    {
     "data": {
      "text/plain": [
       "array(['', 'Stressful day', 'Drank coffee:Drank tea', 'Drank tea',\n",
       "       'Ate late:Drank coffee', 'Drank coffee:Drank tea:Worked out',\n",
       "       'Drank tea:Worked out', 'Drank coffee:Drank tea:Stressful day',\n",
       "       'Drank coffee', 'Drank coffee:Drank tea:Stressful day:Worked out',\n",
       "       'Drank coffee:Worked out', 'Ate late:Drank coffee:Drank tea',\n",
       "       'Ate late:Drank coffee:Drank tea:Worked out',\n",
       "       'Drank tea:Stressful day', 'Drank tea:Stressful day:Worked out',\n",
       "       'Drank coffee:Stressful day:Worked out',\n",
       "       'Drank coffee:Stressful day',\n",
       "       'Ate late:Drank coffee:Drank tea:Stressful day', 'Worked out',\n",
       "       'Ate late:Drank coffee:Worked out'], dtype=object)"
      ]
     },
     "execution_count": 54,
     "metadata": {},
     "output_type": "execute_result"
    }
   ],
   "source": [
    "df['Sleep Notes'].unique()"
   ]
  },
  {
   "cell_type": "code",
   "execution_count": 57,
   "id": "043dcd7a",
   "metadata": {},
   "outputs": [
    {
     "data": {
      "text/plain": [
       "                                                   235\n",
       "Drank coffee:Drank tea:Worked out                  164\n",
       "Drank coffee:Drank tea                             123\n",
       "Drank coffee:Worked out                             91\n",
       "Drank coffee                                        75\n",
       "Drank tea:Worked out                                62\n",
       "Drank tea                                           58\n",
       "Drank coffee:Stressful day:Worked out               15\n",
       "Drank coffee:Drank tea:Stressful day                14\n",
       "Drank coffee:Drank tea:Stressful day:Worked out     13\n",
       "Ate late:Drank coffee:Drank tea:Worked out          10\n",
       "Drank coffee:Stressful day                           8\n",
       "Ate late:Drank coffee:Drank tea                      5\n",
       "Drank tea:Stressful day:Worked out                   5\n",
       "Ate late:Drank coffee:Worked out                     3\n",
       "Ate late:Drank coffee                                2\n",
       "Stressful day                                        1\n",
       "Drank tea:Stressful day                              1\n",
       "Ate late:Drank coffee:Drank tea:Stressful day        1\n",
       "Worked out                                           1\n",
       "Name: Sleep Notes, dtype: int64"
      ]
     },
     "execution_count": 57,
     "metadata": {},
     "output_type": "execute_result"
    }
   ],
   "source": [
    "df['Sleep Notes'].value_counts()"
   ]
  },
  {
   "cell_type": "code",
   "execution_count": 62,
   "id": "d8ed57ab",
   "metadata": {},
   "outputs": [
    {
     "name": "stderr",
     "output_type": "stream",
     "text": [
      "C:\\Users\\SH2\\anaconda3\\lib\\site-packages\\seaborn\\_decorators.py:36: FutureWarning: Pass the following variable as a keyword arg: x. From version 0.12, the only valid positional argument will be `data`, and passing other arguments without an explicit keyword will result in an error or misinterpretation.\n",
      "  warnings.warn(\n"
     ]
    },
    {
     "data": {
      "image/png": "[encoded data removed]",
      "text/plain": [
       "<Figure size 864x432 with 1 Axes>"
      ]
     },
     "metadata": {
      "needs_background": "light"
     },
     "output_type": "display_data"
    }
   ],
   "source": [
    "plt.figure(figsize=(12,6))\n",
    "sns.countplot(df['Sleep Notes'])\n",
    "plt.xticks(rotation =90)\n",
    "plt.show()"
   ]
  },
  {
   "cell_type": "code",
   "execution_count": 65,
   "id": "eeb2551f",
   "metadata": {},
   "outputs": [
    {
     "data": {
      "text/html": [
       "<div>\n",
       "<style scoped>\n",
       "    .dataframe tbody tr th:only-of-type {\n",
       "        vertical-align: middle;\n",
       "    }\n",
       "\n",
       "    .dataframe tbody tr th {\n",
       "        vertical-align: top;\n",
       "    }\n",
       "\n",
       "    .dataframe thead th {\n",
       "        text-align: right;\n",
       "    }\n",
       "</style>\n",
       "<table border=\"1\" class=\"dataframe\">\n",
       "  <thead>\n",
       "    <tr style=\"text-align: right;\">\n",
       "      <th></th>\n",
       "      <th>Start</th>\n",
       "      <th>End</th>\n",
       "      <th>Sleep quality</th>\n",
       "      <th>Time in bed</th>\n",
       "      <th>Wake up</th>\n",
       "      <th>Sleep Notes</th>\n",
       "      <th>Heart rate</th>\n",
       "      <th>Activity (steps)</th>\n",
       "    </tr>\n",
       "  </thead>\n",
       "  <tbody>\n",
       "    <tr>\n",
       "      <th>1</th>\n",
       "      <td>2014-12-30 21:17:50</td>\n",
       "      <td>2014-12-30 21:33:54</td>\n",
       "      <td>3</td>\n",
       "      <td>0:16</td>\n",
       "      <td>:|</td>\n",
       "      <td>Stressful day</td>\n",
       "      <td>72.0</td>\n",
       "      <td>0</td>\n",
       "    </tr>\n",
       "  </tbody>\n",
       "</table>\n",
       "</div>"
      ],
      "text/plain": [
       "                Start                 End  Sleep quality Time in bed Wake up  \\\n",
       "1 2014-12-30 21:17:50 2014-12-30 21:33:54              3        0:16      :|   \n",
       "\n",
       "     Sleep Notes  Heart rate  Activity (steps)  \n",
       "1  Stressful day        72.0                 0  "
      ]
     },
     "execution_count": 65,
     "metadata": {},
     "output_type": "execute_result"
    }
   ],
   "source": [
    "df[df['Sleep Notes'] == 'Stressful day']"
   ]
  },
  {
   "cell_type": "code",
   "execution_count": null,
   "id": "1f5a1370",
   "metadata": {},
   "outputs": [],
   "source": []
  }
 ],
 "metadata": {
  "kernelspec": {
   "display_name": "Python 3 (ipykernel)",
   "language": "python",
   "name": "python3"
  },
  "language_info": {
   "codemirror_mode": {
    "name": "ipython",
    "version": 3
   },
   "file_extension": ".py",
   "mimetype": "text/x-python",
   "name": "python",
   "nbconvert_exporter": "python",
   "pygments_lexer": "ipython3",
   "version": "3.9.7"
  }
 },
 "nbformat": 4,
 "nbformat_minor": 5
}
